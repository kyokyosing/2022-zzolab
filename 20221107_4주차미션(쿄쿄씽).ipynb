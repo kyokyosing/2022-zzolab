{
  "nbformat": 4,
  "nbformat_minor": 0,
  "metadata": {
    "colab": {
      "provenance": [],
      "collapsed_sections": [],
      "authorship_tag": "ABX9TyMZ5BESqezDWjk1E6iKfs8t",
      "include_colab_link": true
    },
    "kernelspec": {
      "name": "python3",
      "display_name": "Python 3"
    },
    "language_info": {
      "name": "python"
    }
  },
  "cells": [
    {
      "cell_type": "markdown",
      "metadata": {
        "id": "view-in-github",
        "colab_type": "text"
      },
      "source": [
        "<a href=\"https://colab.research.google.com/github/kyokyosing/2022-zzolab/blob/main/20221107_4%EC%A3%BC%EC%B0%A8%EB%AF%B8%EC%85%98(%EC%BF%84%EC%BF%84%EC%94%BD).ipynb\" target=\"_parent\"><img src=\"https://colab.research.google.com/assets/colab-badge.svg\" alt=\"Open In Colab\"/></a>"
      ]
    },
    {
      "cell_type": "markdown",
      "source": [
        "###[ 4주차 미션 ]\n",
        "#🧑 1인 가구는 얼마나 증가했을까?\n",
        "- 특정 지역의 최근 1년간(2021년 11월~2022년 10월) 1인 가구 변화를 보여주는 프로그램\n",
        "---\n",
        "#### 1. 원하는 지역 입력하기\n",
        "#### 2. 해당 지역의 최근 1년간(2021년 11월~2022년 10월) 1인 가구 정보 저장하기\n",
        "#### 3. 그래프로 나타내기\n",
        "#### 4. 해당 지역의 전체 가구 중 1인 가구 비율 계산하기"
      ],
      "metadata": {
        "id": "nXGSmFdl4N82"
      }
    },
    {
      "cell_type": "code",
      "source": [
        "#0. 한글 폰트 설치하기\n",
        "\n",
        "!apt-get install fonts-nanum -qq > /dev/null\n",
        "!fc-cache -fv\n",
        "import matplotlib as mpl\n",
        "mpl.font_manager._rebuild()\n",
        "findfont = mpl.font_manager.fontManager.findfont\n",
        "mpl.font_manager.findfont = findfont\n",
        "mpl.backends.backend_agg.findfont = findfont"
      ],
      "metadata": {
        "id": "KMgWAF-np2TM"
      },
      "execution_count": null,
      "outputs": []
    },
    {
      "cell_type": "code",
      "execution_count": null,
      "metadata": {
        "colab": {
          "base_uri": "https://localhost:8080/",
          "height": 449
        },
        "id": "RL1YgKE03fnS",
        "outputId": "29c60982-93e1-4d76-afe3-fba6ed5dd79c"
      },
      "outputs": [
        {
          "output_type": "stream",
          "name": "stdout",
          "text": [
            "특정 지역의 최근 1년간(2021년 11월~2022년 10월) 1인 가구 변화를 알려드립니다.\n",
            "\n",
            "지역을 입력해주세요(시군구 단위) : 경주\n",
            "\n",
            "경주 지역의 최근 1년간(2021년 11월~2022년 10월) 1인 가구 수는 아래와 같습니다.\n",
            "[53709, 53763, 53864, 54091, 54414, 54723, 54893, 55047, 55071, 55216, 55148, 55178]\n",
            "\n"
          ]
        },
        {
          "output_type": "display_data",
          "data": {
            "text/plain": [
              "<Figure size 432x288 with 1 Axes>"
            ],
            "image/png": "[encoded data removed]"
          },
          "metadata": {
            "needs_background": "light"
          }
        },
        {
          "output_type": "stream",
          "name": "stdout",
          "text": [
            "\n",
            "경주 지역의 최근 1년간(2021년 11월~2022년 10월) 전체 가구 중 1인 가구 비율은 아래와 같습니다.\n",
            "['43.65%', '43.68%', '43.74%', '43.85%', '44.03%', '44.19%', '44.29%', '44.38%', '44.39%', '44.48%', '44.46%', '44.50%']\n"
          ]
        }
      ],
      "source": [
        "#1. 원하는 지역 입력하기\n",
        "\n",
        "import csv\n",
        "data = csv.reader(open('세대원수별 세대수(202111~202210).csv', encoding = 'cp949'))\n",
        "next(data)\n",
        "\n",
        "import time\n",
        "print('특정 지역의 최근 1년간(2021년 11월~2022년 10월) 1인 가구 변화를 알려드립니다.')\n",
        "time.sleep(1)\n",
        "print('')\n",
        "region = input('지역을 입력해주세요(시군구 단위) : ')\n",
        "\n",
        "\n",
        "#2. 해당 지역의 최근 1년간(2021년 11월~2022년 10월) 1인 가구 정보 저장하기\n",
        "\n",
        "A = []\n",
        "\n",
        "for row in data :\n",
        "  if region in row[0] :\n",
        "    for i in range(2, 134, 11) :\n",
        "      A.append(int(row[i]))\n",
        "\n",
        "print('')\n",
        "print(str(region) + ' 지역의 최근 1년간(2021년 11월~2022년 10월) 1인 가구 수는 아래와 같습니다.')\n",
        "time.sleep(1)     \n",
        "print(A)\n",
        "\n",
        "\n",
        "#3. 그래프로 나타내기\n",
        "\n",
        "import matplotlib.pyplot as plt\n",
        "plt.rc('font', family = 'NanumGothic')\n",
        "\n",
        "ax = plt.subplot()\n",
        "ax.set_xticks([])\n",
        "\n",
        "plt.title(str(region) + ' 지역의 최근 1년간(2021년 11월~2022년 10월) 1인 가구 수')\n",
        "\n",
        "print('')\n",
        "plt.plot(A)\n",
        "plt.show()\n",
        "\n",
        "\n",
        "#4. 해당 지역의 전체 가구 중 1인 가구 비율 계산하기\n",
        "\n",
        "import csv\n",
        "data = csv.reader(open('세대원수별 세대수(202111~202210).csv', encoding = 'cp949'))\n",
        "next(data)\n",
        "\n",
        "B = []\n",
        "\n",
        "for row in data :\n",
        "  if region in row[0] :\n",
        "    for i in range(1, 133, 11) :\n",
        "      B.append(int(row[i]))\n",
        "\n",
        "C = []\n",
        "\n",
        "for i in range(0, 12) :\n",
        "  c = '%.2f%%'%(int(A[i]) / int(B[i]) * 100.0)\n",
        "  C.append(c)\n",
        "  \n",
        "time.sleep(1)\n",
        "print('')\n",
        "print(str(region) + ' 지역의 최근 1년간(2021년 11월~2022년 10월) 전체 가구 중 1인 가구 비율은 아래와 같습니다.')\n",
        "print(C)"
      ]
    }
  ]
}