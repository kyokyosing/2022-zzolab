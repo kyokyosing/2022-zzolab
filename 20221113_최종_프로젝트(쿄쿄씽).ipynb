{
  "nbformat": 4,
  "nbformat_minor": 0,
  "metadata": {
    "colab": {
      "provenance": [],
      "collapsed_sections": [],
      "authorship_tag": "ABX9TyPIQX/0LCkNL/7fIu9NH+nT",
      "include_colab_link": true
    },
    "kernelspec": {
      "name": "python3",
      "display_name": "Python 3"
    },
    "language_info": {
      "name": "python"
    }
  },
  "cells": [
    {
      "cell_type": "markdown",
      "metadata": {
        "id": "view-in-github",
        "colab_type": "text"
      },
      "source": [
        "<a href=\"https://colab.research.google.com/github/kyokyosing/2022-zzolab/blob/main/20221113_%EC%B5%9C%EC%A2%85_%ED%94%84%EB%A1%9C%EC%A0%9D%ED%8A%B8(%EC%BF%84%EC%BF%84%EC%94%BD).ipynb\" target=\"_parent\"><img src=\"https://colab.research.google.com/assets/colab-badge.svg\" alt=\"Open In Colab\"/></a>"
      ]
    },
    {
      "cell_type": "markdown",
      "source": [
        "###[ 최종 프로젝트 ]\n",
        "#💪 청소년 비만율 변화를 살펴보고 나의 체질량 지수(BMI) 구해보기\n",
        "---\n",
        "#### 1. 최근 10년간(2012~2021년) 청소년 비만율 변화 살펴보기\n",
        "#### 2. 키와 몸무게 입력하면 체질량 지수(BMI)를 자동 계산하여 단계 알려주기"
      ],
      "metadata": {
        "id": "nXGSmFdl4N82"
      }
    },
    {
      "cell_type": "code",
      "source": [
        "#0. 한글 폰트 설치하기\n",
        "\n",
        "!apt-get install fonts-nanum -qq > /dev/null\n",
        "!fc-cache -fv\n",
        "import matplotlib as mpl\n",
        "mpl.font_manager._rebuild()\n",
        "findfont = mpl.font_manager.fontManager.findfont\n",
        "mpl.font_manager.findfont = findfont\n",
        "mpl.backends.backend_agg.findfont = findfont"
      ],
      "metadata": {
        "id": "KMgWAF-np2TM"
      },
      "execution_count": null,
      "outputs": []
    },
    {
      "cell_type": "code",
      "execution_count": 64,
      "metadata": {
        "colab": {
          "base_uri": "https://localhost:8080/",
          "height": 499
        },
        "id": "RL1YgKE03fnS",
        "outputId": "76cdcfa7-c8d8-4e27-a9b2-49a3d5485b06"
      },
      "outputs": [
        {
          "output_type": "stream",
          "name": "stderr",
          "text": [
            "/usr/local/lib/python3.7/dist-packages/ipykernel_launcher.py:27: MatplotlibDeprecationWarning: Adding an axes using the same arguments as a previous axes currently reuses the earlier instance.  In a future version, a new instance will always be created and returned.  Meanwhile, this warning can be suppressed, and the future behavior ensured, by passing a unique label to each axes instance.\n"
          ]
        },
        {
          "output_type": "display_data",
          "data": {
            "text/plain": [
              "<Figure size 432x288 with 1 Axes>"
            ],
            "image/png": "[encoded data removed]"
          },
          "metadata": {
            "needs_background": "light"
          }
        },
        {
          "output_type": "stream",
          "name": "stdout",
          "text": [
            "그래프로 알 수 있는 점: 지난 10년간 정도의 차이는 있지만 청소년 비만율은 꾸준히 증가하고 있음을 알 수 있다.\n",
            "\n",
            "\n",
            "체질량 지수(BMI)와 비만 유무를 알려드립니다.\n",
            "\n",
            "키를 입력해주세요(단위 cm) : 160\n",
            "몸무게를 입력해주세요(단위 kg) : 60\n",
            "\n",
            "당신의 체질량 지수(BMI)는 23.437499999999996 입니다.\n",
            "당신의 체질량 지수(BMI) 단계는 과체중 입니다.\n"
          ]
        }
      ],
      "source": [
        "#1. 최근 10년간(2012~2021년) 청소년 비만율 변화 살펴보기\n",
        "\n",
        "import csv\n",
        "data = csv.reader(open('청소년 비만 및 체중조절(2012~2021).csv', encoding = 'cp949'))\n",
        "next(data)\n",
        "\n",
        "\n",
        "#1-1. 비만율(전체, 남학생, 여학생) 리스트 생성하기\n",
        "\n",
        "all = []\n",
        "M = []\n",
        "F = []\n",
        "\n",
        "for row in data :\n",
        "  all.append(float(row[1]))\n",
        "  M.append(float(row[2]))\n",
        "  F.append(float(row[3]))\n",
        "\n",
        "\n",
        "#1-2. 비만율(전체, 남학생, 여학생) 그래프로 나타내기\n",
        "\n",
        "import matplotlib.pyplot as plt\n",
        "plt.rc('font', family = 'NanumGothic')\n",
        "\n",
        "plt.title('최근 10년간(2012~2021년) 청소년 비만율')\n",
        "\n",
        "ax = plt.subplot()\n",
        "ax.set_xticks([12, 13, 14, 15, 16, 17, 18, 19, 20, 21])\n",
        "\n",
        "plt.plot(x, all, c = 'gray', label = '전체')\n",
        "plt.plot(x, M, c = 'skyblue', label = '남학생')\n",
        "plt.plot(x, F, c = 'pink', label = '여학생')\n",
        "\n",
        "plt.legend()\n",
        "plt.show()\n",
        "\n",
        "print('그래프로 알 수 있는 점: 지난 10년간 정도의 차이는 있지만 청소년 비만율은 꾸준히 증가하고 있음을 알 수 있다.')\n",
        "\n",
        "\n",
        "#2. 체질량 지수(BMI) 구하기\n",
        "\n",
        "import time\n",
        "\n",
        "time.sleep(2)\n",
        "print('')\n",
        "print('')\n",
        "print('체질량 지수(BMI)와 비만 유무를 알려드립니다.')\n",
        "\n",
        "\n",
        "#2-1. 키와 몸무게 입력하기\n",
        "\n",
        "print('')\n",
        "h_1 = input('키를 입력해주세요(단위 cm) : ')\n",
        "w = input('몸무게를 입력해주세요(단위 kg) : ')\n",
        "\n",
        "\n",
        "#2-2. cm를 m로 변환하기\n",
        "\n",
        "h_2 = int(h_1)/100\n",
        "\n",
        "\n",
        "#2-3. 체질량 지수(BMI) 계산하기\n",
        "\n",
        "BMI = float(w)/(float(h_2) ** 2)\n",
        "\n",
        "\n",
        "#2-4. 비만 유무 판정하기\n",
        "\n",
        "if BMI >= 23 and BMI <  25 :\n",
        "  result = '과체중'\n",
        "\n",
        "elif BMI >= 25 and BMI < 30 :\n",
        "  result = '비만'\n",
        "\n",
        "elif BMI >= 30 :\n",
        "  result = '고도비만'\n",
        "\n",
        "else:\n",
        "  result = '정상'\n",
        "\n",
        "\n",
        "#2-5. 결과 안내하기\n",
        "\n",
        "time.sleep(2)\n",
        "print('')\n",
        "print('당신의 체질량 지수(BMI)는 ' + str(BMI) + ' 입니다.')\n",
        "print('당신의 체질량 지수(BMI) 단계는 ' + str(result) + ' 입니다.')"
      ]
    }
  ]
}